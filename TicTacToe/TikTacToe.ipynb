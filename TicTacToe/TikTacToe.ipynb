{
  "nbformat": 4,
  "nbformat_minor": 0,
  "metadata": {
    "colab": {
      "provenance": [],
      "collapsed_sections": []
    },
    "kernelspec": {
      "name": "python3",
      "display_name": "Python 3"
    },
    "language_info": {
      "name": "python"
    }
  },
  "cells": [
    {
      "cell_type": "code",
      "metadata": {
        "colab": {
          "base_uri": "https://localhost:8080/"
        },
        "id": "nQ-V3m6hOF2f",
        "outputId": "6a6a32cb-a9fd-40e8-db97-0d68440f821c"
      },
      "source": [
        "from IPython.display import clear_output\n",
        "\n",
        "def tictactoe():\n",
        "    print(\"Welcome to Tic-Tok-Toe\")\n",
        "    name1=input(\"Enter 1st player name: \")\n",
        "    name2=input(\"Enter 2nd player name: \")\n",
        "\n",
        "    def in_correct(x):\n",
        "        y=input(f\"\\nSelect between this two (X or O) \\nEnter {x}'s selection: \").upper()\n",
        "        if y==\"X\" or y==\"O\":\n",
        "            return y\n",
        "        return in_correct()\n",
        "        \n",
        "    play1=in_correct(name1)\n",
        "    if play1==\"X\":play2=\"O\"\n",
        "    else:play2=\"X\"\n",
        "\n",
        "    def check():\n",
        "        if (board[0]==board[1]==board[2]==play1 or \n",
        "        board[3]==board[4]==board[5]==play1 or \n",
        "        board[6]==board[7]==board[8]==play1 or \n",
        "        board[0]==board[3]==board[6]==play1 or \n",
        "        board[1]==board[4]==board[7]==play1 or \n",
        "        board[2]==board[5]==board[8]==play1 or \n",
        "        board[0]==board[4]==board[8]==play1 or\n",
        "        board[2]==board[4]==board[6]==play1):\n",
        "            print(f\"{name1} won & {name2} lose.\")\n",
        "            return True\n",
        "\n",
        "        if (board[0]==board[1]==board[2]==play2 or \n",
        "        board[3]==board[4]==board[5]==play2 or \n",
        "        board[6]==board[7]==board[8]==play2 or \n",
        "        board[0]==board[3]==board[6]==play2 or \n",
        "        board[1]==board[4]==board[7]==play2 or \n",
        "        board[2]==board[5]==board[8]==play2 or \n",
        "        board[0]==board[4]==board[8]==play2 or\n",
        "        board[2]==board[4]==board[6]==play2):\n",
        "            print(f\"{name2} won & {name1} lose.\")\n",
        "            return True\n",
        "\n",
        "        return False\n",
        "\n",
        "    board=[1,2,3,4,5,6,7,8,9]\n",
        "    def display(x):\n",
        "        clear_output() \n",
        "        print(f\"{name1} selected {play1} and {name2} selected {play2}.\\n\")\n",
        "        print(f\"{x[0]}|{x[1]}|{x[2]}\\n- - -\")\n",
        "        print(f\"{x[3]}|{x[4]}|{x[5]}\\n- - -\")\n",
        "        print(f\"{x[6]}|{x[7]}|{x[8]}\")\n",
        "\n",
        "    for j in range(9):\n",
        "        display(board)\n",
        "        if j%2==0:\n",
        "            while True:\n",
        "                i=int(input(f\"\\n{name1} enter your position: \"))\n",
        "                if not (board[i-1]==\"O\" or board[i-1])==\"X\":   \n",
        "                    board[i-1]=play1 \n",
        "                    break\n",
        "        else:\n",
        "            while True:\n",
        "                i=int(input(f\"\\n{name2} enter your position: \"))\n",
        "                if not (board[i-1]==\"O\" or board[i-1]==\"X\"): \n",
        "                    board[i-1]=play2\n",
        "                    break\n",
        "\n",
        "        if check(): break\n",
        "        if j==9: print(\"Draw\")\n",
        "\n",
        "tictactoe()\n",
        "\n",
        "again=input(\"Are you want to play again. Tap Y: \")\n",
        "if again.upper()==\"Y\": tictactoe()"
      ],
      "execution_count": 2,
      "outputs": [
        {
          "name": "stdout",
          "output_type": "stream",
          "text": [
            "soliman selected X and sohan selected O.\n",
            "\n",
            "X|O|O\n",
            "- - -\n",
            "4|X|6\n",
            "- - -\n",
            "7|8|9\n",
            "\n",
            "soliman enter your position: 9\n",
            "soliman won & sohan lose.\n",
            "Are you want to play again. Tap Y: n\n"
          ]
        }
      ]
    }
  ]
}